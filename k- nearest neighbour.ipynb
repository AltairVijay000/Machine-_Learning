{
 "cells": [
  {
   "cell_type": "code",
   "execution_count": 22,
   "id": "fd1517bf",
   "metadata": {},
   "outputs": [],
   "source": [
    "##### importing Numpy, Matplotlib and sklearn libraries\n",
    "import numpy as np\n",
    "import matplotlib.pyplot as plt\n",
    "\n",
    "from matplotlib import style\n",
    "style.use(\"ggplot\")\n",
    "from sklearn.cluster import KMeans"
   ]
  },
  {
   "cell_type": "code",
   "execution_count": 23,
   "id": "3764951a",
   "metadata": {},
   "outputs": [
    {
     "data": {
      "image/png": "[encoded data removed]",
      "text/plain": [
       "<Figure size 432x288 with 1 Axes>"
      ]
     },
     "metadata": {},
     "output_type": "display_data"
    }
   ],
   "source": [
    "##### Plotting and visualizing our data before feeding it into the machine learning algorithm\n",
    "x= [1, 5, 1.5,8,1,9] \n",
    "y=[2,8,1.8,8,0.6,11]\n",
    "plt.scatter(x,y)\n",
    "plt.show()"
   ]
  },
  {
   "cell_type": "code",
   "execution_count": null,
   "id": "ffc96698",
   "metadata": {},
   "outputs": [],
   "source": [
    "##### converting our data to Numpy array\n",
    "X= np.array([[1, 2],[5, 8],[1.5, 1.8],[8, 8],[1, 0.6],[9, 11]])\n"
   ]
  },
  {
   "cell_type": "code",
   "execution_count": null,
   "id": "e425ee6c",
   "metadata": {},
   "outputs": [],
   "source": [
    "##### We initialize K-means algorithm with the required parameter and we use fit to fit the data\n",
    "kmeans=KMeans(n_clusters=2)\n",
    "kmeans.fit(X)"
   ]
  },
  {
   "cell_type": "code",
   "execution_count": 24,
   "id": "4753e657",
   "metadata": {},
   "outputs": [
    {
     "name": "stdout",
     "output_type": "stream",
     "text": [
      "[[1.16666667 1.46666667]\n",
      " [7.33333333 9.        ]]\n",
      "[0 1 0 1 0 1]\n"
     ]
    }
   ],
   "source": [
    "##### Getting the values of centroids and label based on fitment\n",
    "centroids = kmeans.cluster_centers_\n",
    "labels= kmeans.labels_\n",
    "print(centroids)\n",
    "print(labels)"
   ]
  },
  {
   "cell_type": "code",
   "execution_count": 26,
   "id": "cdf6ffe8",
   "metadata": {},
   "outputs": [
    {
     "name": "stdout",
     "output_type": "stream",
     "text": [
      "cordinates: [1. 2.] label: 0\n",
      "cordinates: [5. 8.] label: 1\n",
      "cordinates: [1.5 1.8] label: 0\n",
      "cordinates: [8. 8.] label: 1\n",
      "cordinates: [1.  0.6] label: 0\n",
      "cordinates: [ 9. 11.] label: 1\n"
     ]
    },
    {
     "data": {
      "image/png": "[encoded data removed]",
      "text/plain": [
       "<Figure size 432x288 with 1 Axes>"
      ]
     },
     "metadata": {},
     "output_type": "display_data"
    }
   ],
   "source": [
    "### plotting the visualization\n",
    "colors =[\"g.\", \"r.\", \"c.\", \"y.\"]\n",
    "\n",
    "for i in range(len(X)):\n",
    "    print(\"cordinates:\", X[i], \"label:\", labels[i])\n",
    "    plt.plot(X[i][0], X[i][1], colors[labels[i]], markersize=10) \n",
    "\n",
    "plt.scatter(centroids[:,0], centroids[:, 1], marker=\"x\", s=150, linewidth=5, zorder=10)\n",
    "plt.show()"
   ]
  },
  {
   "cell_type": "code",
   "execution_count": null,
   "id": "0fbb651e",
   "metadata": {},
   "outputs": [],
   "source": []
  }
 ],
 "metadata": {
  "kernelspec": {
   "display_name": "Python 3",
   "language": "python",
   "name": "python3"
  },
  "language_info": {
   "codemirror_mode": {
    "name": "ipython",
    "version": 3
   },
   "file_extension": ".py",
   "mimetype": "text/x-python",
   "name": "python",
   "nbconvert_exporter": "python",
   "pygments_lexer": "ipython3",
   "version": "3.8.8"
  }
 },
 "nbformat": 4,
 "nbformat_minor": 5
}
